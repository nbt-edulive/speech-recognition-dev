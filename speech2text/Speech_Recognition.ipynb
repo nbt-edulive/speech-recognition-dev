{
 "cells": [
  {
   "cell_type": "code",
   "execution_count": null,
   "metadata": {
    "id": "3p8bJcvKVxXE"
   },
   "outputs": [],
   "source": []
  },
  {
   "cell_type": "code",
   "execution_count": null,
   "metadata": {
    "colab": {
     "base_uri": "https://localhost:8080/"
    },
    "executionInfo": {
     "elapsed": 11671,
     "status": "ok",
     "timestamp": 1745330830954,
     "user": {
      "displayName": "Nguyễn Bá Tiến",
      "userId": "00517937337191725625"
     },
     "user_tz": -420
    },
    "id": "ilvF2ApXV34_",
    "outputId": "fc369efc-c599-4b2f-a593-9a7a4cdb401c"
   },
   "outputs": [
    {
     "name": "stdout",
     "output_type": "stream",
     "text": [
      "Drive already mounted at /content/drive; to attempt to forcibly remount, call drive.mount(\"/content/drive\", force_remount=True).\n"
     ]
    }
   ],
   "source": [
    "from google.colab import drive\n",
    "drive.mount('/content/drive')"
   ]
  },
  {
   "cell_type": "code",
   "execution_count": null,
   "metadata": {
    "colab": {
     "base_uri": "https://localhost:8080/"
    },
    "executionInfo": {
     "elapsed": 29,
     "status": "ok",
     "timestamp": 1745311184774,
     "user": {
      "displayName": "Nguyễn Bá Tiến",
      "userId": "00517937337191725625"
     },
     "user_tz": -420
    },
    "id": "B4Wj34CZXlJg",
    "outputId": "a7128a4e-7faa-4466-98dd-5e0af5839718"
   },
   "outputs": [
    {
     "name": "stdout",
     "output_type": "stream",
     "text": [
      "/content/drive/MyDrive/speech recognition\n"
     ]
    }
   ],
   "source": [
    "%cd /content/drive/MyDrive/speech recognition\n"
   ]
  },
  {
   "cell_type": "code",
   "execution_count": null,
   "metadata": {
    "colab": {
     "base_uri": "https://localhost:8080/"
    },
    "executionInfo": {
     "elapsed": 493,
     "status": "ok",
     "timestamp": 1745296073186,
     "user": {
      "displayName": "Nguyễn Bá Tiến",
      "userId": "00517937337191725625"
     },
     "user_tz": -420
    },
    "id": "4rUJOqy6ZMOt",
    "outputId": "626c7477-0b84-4996-e4ab-05067feea747"
   },
   "outputs": [
    {
     "name": "stdout",
     "output_type": "stream",
     "text": [
      "Đã tạo file output.mp3\n"
     ]
    }
   ],
   "source": [
    "!python3 create_mp3.py"
   ]
  },
  {
   "cell_type": "code",
   "execution_count": null,
   "metadata": {
    "colab": {
     "base_uri": "https://localhost:8080/"
    },
    "collapsed": true,
    "executionInfo": {
     "elapsed": 133917,
     "status": "ok",
     "timestamp": 1745311398152,
     "user": {
      "displayName": "Nguyễn Bá Tiến",
      "userId": "00517937337191725625"
     },
     "user_tz": -420
    },
    "id": "BV8SoDkBsBJB",
    "outputId": "fbc9febb-1382-4d60-f53e-b111f5841e9e"
   },
   "outputs": [
    {
     "name": "stdout",
     "output_type": "stream",
     "text": [
      "Collecting gtts\n",
      "  Downloading gTTS-2.5.4-py3-none-any.whl.metadata (4.1 kB)\n",
      "Collecting openai-whisper\n",
      "  Downloading openai-whisper-20240930.tar.gz (800 kB)\n",
      "\u001b[2K     \u001b[90m━━━━━━━━━━━━━━━━━━━━━━━━━━━━━━━━━━━━━━━\u001b[0m \u001b[32m800.5/800.5 kB\u001b[0m \u001b[31m8.9 MB/s\u001b[0m eta \u001b[36m0:00:00\u001b[0m\n",
      "\u001b[?25h  Installing build dependencies ... \u001b[?25l\u001b[?25hdone\n",
      "  Getting requirements to build wheel ... \u001b[?25l\u001b[?25hdone\n",
      "  Preparing metadata (pyproject.toml) ... \u001b[?25l\u001b[?25hdone\n",
      "Collecting faster-whisper\n",
      "  Downloading faster_whisper-1.1.1-py3-none-any.whl.metadata (16 kB)\n",
      "Requirement already satisfied: requests<3,>=2.27 in /usr/local/lib/python3.11/dist-packages (from gtts) (2.32.3)\n",
      "Requirement already satisfied: click<8.2,>=7.1 in /usr/local/lib/python3.11/dist-packages (from gtts) (8.1.8)\n",
      "Requirement already satisfied: numba in /usr/local/lib/python3.11/dist-packages (from openai-whisper) (0.60.0)\n",
      "Requirement already satisfied: numpy in /usr/local/lib/python3.11/dist-packages (from openai-whisper) (2.0.2)\n",
      "Requirement already satisfied: torch in /usr/local/lib/python3.11/dist-packages (from openai-whisper) (2.6.0+cu124)\n",
      "Requirement already satisfied: tqdm in /usr/local/lib/python3.11/dist-packages (from openai-whisper) (4.67.1)\n",
      "Requirement already satisfied: more-itertools in /usr/local/lib/python3.11/dist-packages (from openai-whisper) (10.6.0)\n",
      "Collecting tiktoken (from openai-whisper)\n",
      "  Downloading tiktoken-0.9.0-cp311-cp311-manylinux_2_17_x86_64.manylinux2014_x86_64.whl.metadata (6.7 kB)\n",
      "Requirement already satisfied: triton>=2.0.0 in /usr/local/lib/python3.11/dist-packages (from openai-whisper) (3.2.0)\n",
      "Collecting ctranslate2<5,>=4.0 (from faster-whisper)\n",
      "  Downloading ctranslate2-4.6.0-cp311-cp311-manylinux_2_17_x86_64.manylinux2014_x86_64.whl.metadata (10 kB)\n",
      "Requirement already satisfied: huggingface-hub>=0.13 in /usr/local/lib/python3.11/dist-packages (from faster-whisper) (0.30.2)\n",
      "Requirement already satisfied: tokenizers<1,>=0.13 in /usr/local/lib/python3.11/dist-packages (from faster-whisper) (0.21.1)\n",
      "Collecting onnxruntime<2,>=1.14 (from faster-whisper)\n",
      "  Downloading onnxruntime-1.21.1-cp311-cp311-manylinux_2_27_x86_64.manylinux_2_28_x86_64.whl.metadata (4.5 kB)\n",
      "Collecting av>=11 (from faster-whisper)\n",
      "  Downloading av-14.3.0-cp311-cp311-manylinux_2_17_x86_64.manylinux2014_x86_64.whl.metadata (4.7 kB)\n",
      "Requirement already satisfied: setuptools in /usr/local/lib/python3.11/dist-packages (from ctranslate2<5,>=4.0->faster-whisper) (75.2.0)\n",
      "Requirement already satisfied: pyyaml<7,>=5.3 in /usr/local/lib/python3.11/dist-packages (from ctranslate2<5,>=4.0->faster-whisper) (6.0.2)\n",
      "Requirement already satisfied: filelock in /usr/local/lib/python3.11/dist-packages (from huggingface-hub>=0.13->faster-whisper) (3.18.0)\n",
      "Requirement already satisfied: fsspec>=2023.5.0 in /usr/local/lib/python3.11/dist-packages (from huggingface-hub>=0.13->faster-whisper) (2025.3.2)\n",
      "Requirement already satisfied: packaging>=20.9 in /usr/local/lib/python3.11/dist-packages (from huggingface-hub>=0.13->faster-whisper) (24.2)\n",
      "Requirement already satisfied: typing-extensions>=3.7.4.3 in /usr/local/lib/python3.11/dist-packages (from huggingface-hub>=0.13->faster-whisper) (4.13.2)\n",
      "Collecting coloredlogs (from onnxruntime<2,>=1.14->faster-whisper)\n",
      "  Downloading coloredlogs-15.0.1-py2.py3-none-any.whl.metadata (12 kB)\n",
      "Requirement already satisfied: flatbuffers in /usr/local/lib/python3.11/dist-packages (from onnxruntime<2,>=1.14->faster-whisper) (25.2.10)\n",
      "Requirement already satisfied: protobuf in /usr/local/lib/python3.11/dist-packages (from onnxruntime<2,>=1.14->faster-whisper) (5.29.4)\n",
      "Requirement already satisfied: sympy in /usr/local/lib/python3.11/dist-packages (from onnxruntime<2,>=1.14->faster-whisper) (1.13.1)\n",
      "Requirement already satisfied: charset-normalizer<4,>=2 in /usr/local/lib/python3.11/dist-packages (from requests<3,>=2.27->gtts) (3.4.1)\n",
      "Requirement already satisfied: idna<4,>=2.5 in /usr/local/lib/python3.11/dist-packages (from requests<3,>=2.27->gtts) (3.10)\n",
      "Requirement already satisfied: urllib3<3,>=1.21.1 in /usr/local/lib/python3.11/dist-packages (from requests<3,>=2.27->gtts) (2.3.0)\n",
      "Requirement already satisfied: certifi>=2017.4.17 in /usr/local/lib/python3.11/dist-packages (from requests<3,>=2.27->gtts) (2025.1.31)\n",
      "Requirement already satisfied: llvmlite<0.44,>=0.43.0dev0 in /usr/local/lib/python3.11/dist-packages (from numba->openai-whisper) (0.43.0)\n",
      "Requirement already satisfied: regex>=2022.1.18 in /usr/local/lib/python3.11/dist-packages (from tiktoken->openai-whisper) (2024.11.6)\n",
      "Requirement already satisfied: networkx in /usr/local/lib/python3.11/dist-packages (from torch->openai-whisper) (3.4.2)\n",
      "Requirement already satisfied: jinja2 in /usr/local/lib/python3.11/dist-packages (from torch->openai-whisper) (3.1.6)\n",
      "Collecting nvidia-cuda-nvrtc-cu12==12.4.127 (from torch->openai-whisper)\n",
      "  Downloading nvidia_cuda_nvrtc_cu12-12.4.127-py3-none-manylinux2014_x86_64.whl.metadata (1.5 kB)\n",
      "Collecting nvidia-cuda-runtime-cu12==12.4.127 (from torch->openai-whisper)\n",
      "  Downloading nvidia_cuda_runtime_cu12-12.4.127-py3-none-manylinux2014_x86_64.whl.metadata (1.5 kB)\n",
      "Collecting nvidia-cuda-cupti-cu12==12.4.127 (from torch->openai-whisper)\n",
      "  Downloading nvidia_cuda_cupti_cu12-12.4.127-py3-none-manylinux2014_x86_64.whl.metadata (1.6 kB)\n",
      "Collecting nvidia-cudnn-cu12==9.1.0.70 (from torch->openai-whisper)\n",
      "  Downloading nvidia_cudnn_cu12-9.1.0.70-py3-none-manylinux2014_x86_64.whl.metadata (1.6 kB)\n",
      "Collecting nvidia-cublas-cu12==12.4.5.8 (from torch->openai-whisper)\n",
      "  Downloading nvidia_cublas_cu12-12.4.5.8-py3-none-manylinux2014_x86_64.whl.metadata (1.5 kB)\n",
      "Collecting nvidia-cufft-cu12==11.2.1.3 (from torch->openai-whisper)\n",
      "  Downloading nvidia_cufft_cu12-11.2.1.3-py3-none-manylinux2014_x86_64.whl.metadata (1.5 kB)\n",
      "Collecting nvidia-curand-cu12==10.3.5.147 (from torch->openai-whisper)\n",
      "  Downloading nvidia_curand_cu12-10.3.5.147-py3-none-manylinux2014_x86_64.whl.metadata (1.5 kB)\n",
      "Collecting nvidia-cusolver-cu12==11.6.1.9 (from torch->openai-whisper)\n",
      "  Downloading nvidia_cusolver_cu12-11.6.1.9-py3-none-manylinux2014_x86_64.whl.metadata (1.6 kB)\n",
      "Collecting nvidia-cusparse-cu12==12.3.1.170 (from torch->openai-whisper)\n",
      "  Downloading nvidia_cusparse_cu12-12.3.1.170-py3-none-manylinux2014_x86_64.whl.metadata (1.6 kB)\n",
      "Requirement already satisfied: nvidia-cusparselt-cu12==0.6.2 in /usr/local/lib/python3.11/dist-packages (from torch->openai-whisper) (0.6.2)\n",
      "Requirement already satisfied: nvidia-nccl-cu12==2.21.5 in /usr/local/lib/python3.11/dist-packages (from torch->openai-whisper) (2.21.5)\n",
      "Requirement already satisfied: nvidia-nvtx-cu12==12.4.127 in /usr/local/lib/python3.11/dist-packages (from torch->openai-whisper) (12.4.127)\n",
      "Collecting nvidia-nvjitlink-cu12==12.4.127 (from torch->openai-whisper)\n",
      "  Downloading nvidia_nvjitlink_cu12-12.4.127-py3-none-manylinux2014_x86_64.whl.metadata (1.5 kB)\n",
      "Requirement already satisfied: mpmath<1.4,>=1.1.0 in /usr/local/lib/python3.11/dist-packages (from sympy->onnxruntime<2,>=1.14->faster-whisper) (1.3.0)\n",
      "Collecting humanfriendly>=9.1 (from coloredlogs->onnxruntime<2,>=1.14->faster-whisper)\n",
      "  Downloading humanfriendly-10.0-py2.py3-none-any.whl.metadata (9.2 kB)\n",
      "Requirement already satisfied: MarkupSafe>=2.0 in /usr/local/lib/python3.11/dist-packages (from jinja2->torch->openai-whisper) (3.0.2)\n",
      "Downloading gTTS-2.5.4-py3-none-any.whl (29 kB)\n",
      "Downloading faster_whisper-1.1.1-py3-none-any.whl (1.1 MB)\n",
      "\u001b[2K   \u001b[90m━━━━━━━━━━━━━━━━━━━━━━━━━━━━━━━━━━━━━━━━\u001b[0m \u001b[32m1.1/1.1 MB\u001b[0m \u001b[31m38.6 MB/s\u001b[0m eta \u001b[36m0:00:00\u001b[0m\n",
      "\u001b[?25hDownloading av-14.3.0-cp311-cp311-manylinux_2_17_x86_64.manylinux2014_x86_64.whl (35.2 MB)\n",
      "\u001b[2K   \u001b[90m━━━━━━━━━━━━━━━━━━━━━━━━━━━━━━━━━━━━━━━━\u001b[0m \u001b[32m35.2/35.2 MB\u001b[0m \u001b[31m34.4 MB/s\u001b[0m eta \u001b[36m0:00:00\u001b[0m\n",
      "\u001b[?25hDownloading ctranslate2-4.6.0-cp311-cp311-manylinux_2_17_x86_64.manylinux2014_x86_64.whl (38.6 MB)\n",
      "\u001b[2K   \u001b[90m━━━━━━━━━━━━━━━━━━━━━━━━━━━━━━━━━━━━━━━━\u001b[0m \u001b[32m38.6/38.6 MB\u001b[0m \u001b[31m23.0 MB/s\u001b[0m eta \u001b[36m0:00:00\u001b[0m\n",
      "\u001b[?25hDownloading onnxruntime-1.21.1-cp311-cp311-manylinux_2_27_x86_64.manylinux_2_28_x86_64.whl (16.0 MB)\n",
      "\u001b[2K   \u001b[90m━━━━━━━━━━━━━━━━━━━━━━━━━━━━━━━━━━━━━━━━\u001b[0m \u001b[32m16.0/16.0 MB\u001b[0m \u001b[31m41.2 MB/s\u001b[0m eta \u001b[36m0:00:00\u001b[0m\n",
      "\u001b[?25hDownloading tiktoken-0.9.0-cp311-cp311-manylinux_2_17_x86_64.manylinux2014_x86_64.whl (1.2 MB)\n",
      "\u001b[2K   \u001b[90m━━━━━━━━━━━━━━━━━━━━━━━━━━━━━━━━━━━━━━━━\u001b[0m \u001b[32m1.2/1.2 MB\u001b[0m \u001b[31m53.8 MB/s\u001b[0m eta \u001b[36m0:00:00\u001b[0m\n",
      "\u001b[?25hDownloading nvidia_cublas_cu12-12.4.5.8-py3-none-manylinux2014_x86_64.whl (363.4 MB)\n",
      "\u001b[2K   \u001b[90m━━━━━━━━━━━━━━━━━━━━━━━━━━━━━━━━━━━━━━━━\u001b[0m \u001b[32m363.4/363.4 MB\u001b[0m \u001b[31m1.5 MB/s\u001b[0m eta \u001b[36m0:00:00\u001b[0m\n",
      "\u001b[?25hDownloading nvidia_cuda_cupti_cu12-12.4.127-py3-none-manylinux2014_x86_64.whl (13.8 MB)\n",
      "\u001b[2K   \u001b[90m━━━━━━━━━━━━━━━━━━━━━━━━━━━━━━━━━━━━━━━━\u001b[0m \u001b[32m13.8/13.8 MB\u001b[0m \u001b[31m102.8 MB/s\u001b[0m eta \u001b[36m0:00:00\u001b[0m\n",
      "\u001b[?25hDownloading nvidia_cuda_nvrtc_cu12-12.4.127-py3-none-manylinux2014_x86_64.whl (24.6 MB)\n",
      "\u001b[2K   \u001b[90m━━━━━━━━━━━━━━━━━━━━━━━━━━━━━━━━━━━━━━━━\u001b[0m \u001b[32m24.6/24.6 MB\u001b[0m \u001b[31m84.1 MB/s\u001b[0m eta \u001b[36m0:00:00\u001b[0m\n",
      "\u001b[?25hDownloading nvidia_cuda_runtime_cu12-12.4.127-py3-none-manylinux2014_x86_64.whl (883 kB)\n",
      "\u001b[2K   \u001b[90m━━━━━━━━━━━━━━━━━━━━━━━━━━━━━━━━━━━━━━━━\u001b[0m \u001b[32m883.7/883.7 kB\u001b[0m \u001b[31m41.2 MB/s\u001b[0m eta \u001b[36m0:00:00\u001b[0m\n",
      "\u001b[?25hDownloading nvidia_cudnn_cu12-9.1.0.70-py3-none-manylinux2014_x86_64.whl (664.8 MB)\n",
      "\u001b[2K   \u001b[90m━━━━━━━━━━━━━━━━━━━━━━━━━━━━━━━━━━━━━━━━\u001b[0m \u001b[32m664.8/664.8 MB\u001b[0m \u001b[31m2.5 MB/s\u001b[0m eta \u001b[36m0:00:00\u001b[0m\n",
      "\u001b[?25hDownloading nvidia_cufft_cu12-11.2.1.3-py3-none-manylinux2014_x86_64.whl (211.5 MB)\n",
      "\u001b[2K   \u001b[90m━━━━━━━━━━━━━━━━━━━━━━━━━━━━━━━━━━━━━━━━\u001b[0m \u001b[32m211.5/211.5 MB\u001b[0m \u001b[31m5.9 MB/s\u001b[0m eta \u001b[36m0:00:00\u001b[0m\n",
      "\u001b[?25hDownloading nvidia_curand_cu12-10.3.5.147-py3-none-manylinux2014_x86_64.whl (56.3 MB)\n",
      "\u001b[2K   \u001b[90m━━━━━━━━━━━━━━━━━━━━━━━━━━━━━━━━━━━━━━━━\u001b[0m \u001b[32m56.3/56.3 MB\u001b[0m \u001b[31m12.4 MB/s\u001b[0m eta \u001b[36m0:00:00\u001b[0m\n",
      "\u001b[?25hDownloading nvidia_cusolver_cu12-11.6.1.9-py3-none-manylinux2014_x86_64.whl (127.9 MB)\n",
      "\u001b[2K   \u001b[90m━━━━━━━━━━━━━━━━━━━━━━━━━━━━━━━━━━━━━━━━\u001b[0m \u001b[32m127.9/127.9 MB\u001b[0m \u001b[31m7.4 MB/s\u001b[0m eta \u001b[36m0:00:00\u001b[0m\n",
      "\u001b[?25hDownloading nvidia_cusparse_cu12-12.3.1.170-py3-none-manylinux2014_x86_64.whl (207.5 MB)\n",
      "\u001b[2K   \u001b[90m━━━━━━━━━━━━━━━━━━━━━━━━━━━━━━━━━━━━━━━━\u001b[0m \u001b[32m207.5/207.5 MB\u001b[0m \u001b[31m6.2 MB/s\u001b[0m eta \u001b[36m0:00:00\u001b[0m\n",
      "\u001b[?25hDownloading nvidia_nvjitlink_cu12-12.4.127-py3-none-manylinux2014_x86_64.whl (21.1 MB)\n",
      "\u001b[2K   \u001b[90m━━━━━━━━━━━━━━━━━━━━━━━━━━━━━━━━━━━━━━━━\u001b[0m \u001b[32m21.1/21.1 MB\u001b[0m \u001b[31m85.8 MB/s\u001b[0m eta \u001b[36m0:00:00\u001b[0m\n",
      "\u001b[?25hDownloading coloredlogs-15.0.1-py2.py3-none-any.whl (46 kB)\n",
      "\u001b[2K   \u001b[90m━━━━━━━━━━━━━━━━━━━━━━━━━━━━━━━━━━━━━━━━\u001b[0m \u001b[32m46.0/46.0 kB\u001b[0m \u001b[31m3.5 MB/s\u001b[0m eta \u001b[36m0:00:00\u001b[0m\n",
      "\u001b[?25hDownloading humanfriendly-10.0-py2.py3-none-any.whl (86 kB)\n",
      "\u001b[2K   \u001b[90m━━━━━━━━━━━━━━━━━━━━━━━━━━━━━━━━━━━━━━━━\u001b[0m \u001b[32m86.8/86.8 kB\u001b[0m \u001b[31m7.0 MB/s\u001b[0m eta \u001b[36m0:00:00\u001b[0m\n",
      "\u001b[?25hBuilding wheels for collected packages: openai-whisper\n",
      "  Building wheel for openai-whisper (pyproject.toml) ... \u001b[?25l\u001b[?25hdone\n",
      "  Created wheel for openai-whisper: filename=openai_whisper-20240930-py3-none-any.whl size=803407 sha256=901936aeaf372cf1868fb5a06ea3d03dece1153c7dbcdcdae7fde4734b7cab94\n",
      "  Stored in directory: /root/.cache/pip/wheels/2f/f2/ce/6eb23db4091d026238ce76703bd66da60b969d70bcc81d5d3a\n",
      "Successfully built openai-whisper\n",
      "Installing collected packages: nvidia-nvjitlink-cu12, nvidia-curand-cu12, nvidia-cufft-cu12, nvidia-cuda-runtime-cu12, nvidia-cuda-nvrtc-cu12, nvidia-cuda-cupti-cu12, nvidia-cublas-cu12, humanfriendly, ctranslate2, av, tiktoken, nvidia-cusparse-cu12, nvidia-cudnn-cu12, gtts, coloredlogs, onnxruntime, nvidia-cusolver-cu12, faster-whisper, openai-whisper\n",
      "  Attempting uninstall: nvidia-nvjitlink-cu12\n",
      "    Found existing installation: nvidia-nvjitlink-cu12 12.5.82\n",
      "    Uninstalling nvidia-nvjitlink-cu12-12.5.82:\n",
      "      Successfully uninstalled nvidia-nvjitlink-cu12-12.5.82\n",
      "  Attempting uninstall: nvidia-curand-cu12\n",
      "    Found existing installation: nvidia-curand-cu12 10.3.6.82\n",
      "    Uninstalling nvidia-curand-cu12-10.3.6.82:\n",
      "      Successfully uninstalled nvidia-curand-cu12-10.3.6.82\n",
      "  Attempting uninstall: nvidia-cufft-cu12\n",
      "    Found existing installation: nvidia-cufft-cu12 11.2.3.61\n",
      "    Uninstalling nvidia-cufft-cu12-11.2.3.61:\n",
      "      Successfully uninstalled nvidia-cufft-cu12-11.2.3.61\n",
      "  Attempting uninstall: nvidia-cuda-runtime-cu12\n",
      "    Found existing installation: nvidia-cuda-runtime-cu12 12.5.82\n",
      "    Uninstalling nvidia-cuda-runtime-cu12-12.5.82:\n",
      "      Successfully uninstalled nvidia-cuda-runtime-cu12-12.5.82\n",
      "  Attempting uninstall: nvidia-cuda-nvrtc-cu12\n",
      "    Found existing installation: nvidia-cuda-nvrtc-cu12 12.5.82\n",
      "    Uninstalling nvidia-cuda-nvrtc-cu12-12.5.82:\n",
      "      Successfully uninstalled nvidia-cuda-nvrtc-cu12-12.5.82\n",
      "  Attempting uninstall: nvidia-cuda-cupti-cu12\n",
      "    Found existing installation: nvidia-cuda-cupti-cu12 12.5.82\n",
      "    Uninstalling nvidia-cuda-cupti-cu12-12.5.82:\n",
      "      Successfully uninstalled nvidia-cuda-cupti-cu12-12.5.82\n",
      "  Attempting uninstall: nvidia-cublas-cu12\n",
      "    Found existing installation: nvidia-cublas-cu12 12.5.3.2\n",
      "    Uninstalling nvidia-cublas-cu12-12.5.3.2:\n",
      "      Successfully uninstalled nvidia-cublas-cu12-12.5.3.2\n",
      "  Attempting uninstall: nvidia-cusparse-cu12\n",
      "    Found existing installation: nvidia-cusparse-cu12 12.5.1.3\n",
      "    Uninstalling nvidia-cusparse-cu12-12.5.1.3:\n",
      "      Successfully uninstalled nvidia-cusparse-cu12-12.5.1.3\n",
      "  Attempting uninstall: nvidia-cudnn-cu12\n",
      "    Found existing installation: nvidia-cudnn-cu12 9.3.0.75\n",
      "    Uninstalling nvidia-cudnn-cu12-9.3.0.75:\n",
      "      Successfully uninstalled nvidia-cudnn-cu12-9.3.0.75\n",
      "  Attempting uninstall: nvidia-cusolver-cu12\n",
      "    Found existing installation: nvidia-cusolver-cu12 11.6.3.83\n",
      "    Uninstalling nvidia-cusolver-cu12-11.6.3.83:\n",
      "      Successfully uninstalled nvidia-cusolver-cu12-11.6.3.83\n",
      "Successfully installed av-14.3.0 coloredlogs-15.0.1 ctranslate2-4.6.0 faster-whisper-1.1.1 gtts-2.5.4 humanfriendly-10.0 nvidia-cublas-cu12-12.4.5.8 nvidia-cuda-cupti-cu12-12.4.127 nvidia-cuda-nvrtc-cu12-12.4.127 nvidia-cuda-runtime-cu12-12.4.127 nvidia-cudnn-cu12-9.1.0.70 nvidia-cufft-cu12-11.2.1.3 nvidia-curand-cu12-10.3.5.147 nvidia-cusolver-cu12-11.6.1.9 nvidia-cusparse-cu12-12.3.1.170 nvidia-nvjitlink-cu12-12.4.127 onnxruntime-1.21.1 openai-whisper-20240930 tiktoken-0.9.0\n",
      "Collecting vosk\n",
      "  Downloading vosk-0.3.45-py3-none-manylinux_2_12_x86_64.manylinux2010_x86_64.whl.metadata (1.8 kB)\n",
      "Requirement already satisfied: cffi>=1.0 in /usr/local/lib/python3.11/dist-packages (from vosk) (1.17.1)\n",
      "Requirement already satisfied: requests in /usr/local/lib/python3.11/dist-packages (from vosk) (2.32.3)\n",
      "Requirement already satisfied: tqdm in /usr/local/lib/python3.11/dist-packages (from vosk) (4.67.1)\n",
      "Collecting srt (from vosk)\n",
      "  Downloading srt-3.5.3.tar.gz (28 kB)\n",
      "  Preparing metadata (setup.py) ... \u001b[?25l\u001b[?25hdone\n",
      "Requirement already satisfied: websockets in /usr/local/lib/python3.11/dist-packages (from vosk) (15.0.1)\n",
      "Requirement already satisfied: pycparser in /usr/local/lib/python3.11/dist-packages (from cffi>=1.0->vosk) (2.22)\n",
      "Requirement already satisfied: charset-normalizer<4,>=2 in /usr/local/lib/python3.11/dist-packages (from requests->vosk) (3.4.1)\n",
      "Requirement already satisfied: idna<4,>=2.5 in /usr/local/lib/python3.11/dist-packages (from requests->vosk) (3.10)\n",
      "Requirement already satisfied: urllib3<3,>=1.21.1 in /usr/local/lib/python3.11/dist-packages (from requests->vosk) (2.3.0)\n",
      "Requirement already satisfied: certifi>=2017.4.17 in /usr/local/lib/python3.11/dist-packages (from requests->vosk) (2025.1.31)\n",
      "Downloading vosk-0.3.45-py3-none-manylinux_2_12_x86_64.manylinux2010_x86_64.whl (7.2 MB)\n",
      "\u001b[2K   \u001b[90m━━━━━━━━━━━━━━━━━━━━━━━━━━━━━━━━━━━━━━━━\u001b[0m \u001b[32m7.2/7.2 MB\u001b[0m \u001b[31m50.0 MB/s\u001b[0m eta \u001b[36m0:00:00\u001b[0m\n",
      "\u001b[?25hBuilding wheels for collected packages: srt\n",
      "  Building wheel for srt (setup.py) ... \u001b[?25l\u001b[?25hdone\n",
      "  Created wheel for srt: filename=srt-3.5.3-py3-none-any.whl size=22427 sha256=501854f0ba224f7e1f11e3b097c7ddacc4812a16c1bca9e3da6a6fb3dc067bd7\n",
      "  Stored in directory: /root/.cache/pip/wheels/1f/43/f1/23ee9119497fcb57d9f7046fbf34c6d9027c46a1fa7824cf08\n",
      "Successfully built srt\n",
      "Installing collected packages: srt, vosk\n",
      "Successfully installed srt-3.5.3 vosk-0.3.45\n",
      "Collecting ffmpeg-python\n",
      "  Downloading ffmpeg_python-0.2.0-py3-none-any.whl.metadata (1.7 kB)\n",
      "Requirement already satisfied: future in /usr/local/lib/python3.11/dist-packages (from ffmpeg-python) (1.0.0)\n",
      "Downloading ffmpeg_python-0.2.0-py3-none-any.whl (25 kB)\n",
      "Installing collected packages: ffmpeg-python\n",
      "Successfully installed ffmpeg-python-0.2.0\n",
      "Collecting datasets\n",
      "  Downloading datasets-3.5.0-py3-none-any.whl.metadata (19 kB)\n",
      "Requirement already satisfied: filelock in /usr/local/lib/python3.11/dist-packages (from datasets) (3.18.0)\n",
      "Requirement already satisfied: numpy>=1.17 in /usr/local/lib/python3.11/dist-packages (from datasets) (2.0.2)\n",
      "Requirement already satisfied: pyarrow>=15.0.0 in /usr/local/lib/python3.11/dist-packages (from datasets) (18.1.0)\n",
      "Collecting dill<0.3.9,>=0.3.0 (from datasets)\n",
      "  Downloading dill-0.3.8-py3-none-any.whl.metadata (10 kB)\n",
      "Requirement already satisfied: pandas in /usr/local/lib/python3.11/dist-packages (from datasets) (2.2.2)\n",
      "Requirement already satisfied: requests>=2.32.2 in /usr/local/lib/python3.11/dist-packages (from datasets) (2.32.3)\n",
      "Requirement already satisfied: tqdm>=4.66.3 in /usr/local/lib/python3.11/dist-packages (from datasets) (4.67.1)\n",
      "Collecting xxhash (from datasets)\n",
      "  Downloading xxhash-3.5.0-cp311-cp311-manylinux_2_17_x86_64.manylinux2014_x86_64.whl.metadata (12 kB)\n",
      "Collecting multiprocess<0.70.17 (from datasets)\n",
      "  Downloading multiprocess-0.70.16-py311-none-any.whl.metadata (7.2 kB)\n",
      "Collecting fsspec<=2024.12.0,>=2023.1.0 (from fsspec[http]<=2024.12.0,>=2023.1.0->datasets)\n",
      "  Downloading fsspec-2024.12.0-py3-none-any.whl.metadata (11 kB)\n",
      "Requirement already satisfied: aiohttp in /usr/local/lib/python3.11/dist-packages (from datasets) (3.11.15)\n",
      "Requirement already satisfied: huggingface-hub>=0.24.0 in /usr/local/lib/python3.11/dist-packages (from datasets) (0.30.2)\n",
      "Requirement already satisfied: packaging in /usr/local/lib/python3.11/dist-packages (from datasets) (24.2)\n",
      "Requirement already satisfied: pyyaml>=5.1 in /usr/local/lib/python3.11/dist-packages (from datasets) (6.0.2)\n",
      "Requirement already satisfied: aiohappyeyeballs>=2.3.0 in /usr/local/lib/python3.11/dist-packages (from aiohttp->datasets) (2.6.1)\n",
      "Requirement already satisfied: aiosignal>=1.1.2 in /usr/local/lib/python3.11/dist-packages (from aiohttp->datasets) (1.3.2)\n",
      "Requirement already satisfied: attrs>=17.3.0 in /usr/local/lib/python3.11/dist-packages (from aiohttp->datasets) (25.3.0)\n",
      "Requirement already satisfied: frozenlist>=1.1.1 in /usr/local/lib/python3.11/dist-packages (from aiohttp->datasets) (1.5.0)\n",
      "Requirement already satisfied: multidict<7.0,>=4.5 in /usr/local/lib/python3.11/dist-packages (from aiohttp->datasets) (6.4.3)\n",
      "Requirement already satisfied: propcache>=0.2.0 in /usr/local/lib/python3.11/dist-packages (from aiohttp->datasets) (0.3.1)\n",
      "Requirement already satisfied: yarl<2.0,>=1.17.0 in /usr/local/lib/python3.11/dist-packages (from aiohttp->datasets) (1.19.0)\n",
      "Requirement already satisfied: typing-extensions>=3.7.4.3 in /usr/local/lib/python3.11/dist-packages (from huggingface-hub>=0.24.0->datasets) (4.13.2)\n",
      "Requirement already satisfied: charset-normalizer<4,>=2 in /usr/local/lib/python3.11/dist-packages (from requests>=2.32.2->datasets) (3.4.1)\n",
      "Requirement already satisfied: idna<4,>=2.5 in /usr/local/lib/python3.11/dist-packages (from requests>=2.32.2->datasets) (3.10)\n",
      "Requirement already satisfied: urllib3<3,>=1.21.1 in /usr/local/lib/python3.11/dist-packages (from requests>=2.32.2->datasets) (2.3.0)\n",
      "Requirement already satisfied: certifi>=2017.4.17 in /usr/local/lib/python3.11/dist-packages (from requests>=2.32.2->datasets) (2025.1.31)\n",
      "Requirement already satisfied: python-dateutil>=2.8.2 in /usr/local/lib/python3.11/dist-packages (from pandas->datasets) (2.8.2)\n",
      "Requirement already satisfied: pytz>=2020.1 in /usr/local/lib/python3.11/dist-packages (from pandas->datasets) (2025.2)\n",
      "Requirement already satisfied: tzdata>=2022.7 in /usr/local/lib/python3.11/dist-packages (from pandas->datasets) (2025.2)\n",
      "Requirement already satisfied: six>=1.5 in /usr/local/lib/python3.11/dist-packages (from python-dateutil>=2.8.2->pandas->datasets) (1.17.0)\n",
      "Downloading datasets-3.5.0-py3-none-any.whl (491 kB)\n",
      "\u001b[2K   \u001b[90m━━━━━━━━━━━━━━━━━━━━━━━━━━━━━━━━━━━━━━━━\u001b[0m \u001b[32m491.2/491.2 kB\u001b[0m \u001b[31m8.9 MB/s\u001b[0m eta \u001b[36m0:00:00\u001b[0m\n",
      "\u001b[?25hDownloading dill-0.3.8-py3-none-any.whl (116 kB)\n",
      "\u001b[2K   \u001b[90m━━━━━━━━━━━━━━━━━━━━━━━━━━━━━━━━━━━━━━━━\u001b[0m \u001b[32m116.3/116.3 kB\u001b[0m \u001b[31m8.8 MB/s\u001b[0m eta \u001b[36m0:00:00\u001b[0m\n",
      "\u001b[?25hDownloading fsspec-2024.12.0-py3-none-any.whl (183 kB)\n",
      "\u001b[2K   \u001b[90m━━━━━━━━━━━━━━━━━━━━━━━━━━━━━━━━━━━━━━━━\u001b[0m \u001b[32m183.9/183.9 kB\u001b[0m \u001b[31m13.2 MB/s\u001b[0m eta \u001b[36m0:00:00\u001b[0m\n",
      "\u001b[?25hDownloading multiprocess-0.70.16-py311-none-any.whl (143 kB)\n",
      "\u001b[2K   \u001b[90m━━━━━━━━━━━━━━━━━━━━━━━━━━━━━━━━━━━━━━━━\u001b[0m \u001b[32m143.5/143.5 kB\u001b[0m \u001b[31m10.1 MB/s\u001b[0m eta \u001b[36m0:00:00\u001b[0m\n",
      "\u001b[?25hDownloading xxhash-3.5.0-cp311-cp311-manylinux_2_17_x86_64.manylinux2014_x86_64.whl (194 kB)\n",
      "\u001b[2K   \u001b[90m━━━━━━━━━━━━━━━━━━━━━━━━━━━━━━━━━━━━━━━━\u001b[0m \u001b[32m194.8/194.8 kB\u001b[0m \u001b[31m14.8 MB/s\u001b[0m eta \u001b[36m0:00:00\u001b[0m\n",
      "\u001b[?25hInstalling collected packages: xxhash, fsspec, dill, multiprocess, datasets\n",
      "  Attempting uninstall: fsspec\n",
      "    Found existing installation: fsspec 2025.3.2\n",
      "    Uninstalling fsspec-2025.3.2:\n",
      "      Successfully uninstalled fsspec-2025.3.2\n",
      "\u001b[31mERROR: pip's dependency resolver does not currently take into account all the packages that are installed. This behaviour is the source of the following dependency conflicts.\n",
      "gcsfs 2025.3.2 requires fsspec==2025.3.2, but you have fsspec 2024.12.0 which is incompatible.\u001b[0m\u001b[31m\n",
      "\u001b[0mSuccessfully installed datasets-3.5.0 dill-0.3.8 fsspec-2024.12.0 multiprocess-0.70.16 xxhash-3.5.0\n"
     ]
    }
   ],
   "source": [
    "!pip install gtts openai-whisper faster-whisper\n",
    "!pip install vosk\n",
    "\n",
    "# Nếu cần convert audio\n",
    "!pip install ffmpeg-python\n",
    "!pip install datasets\n"
   ]
  },
  {
   "cell_type": "code",
   "execution_count": null,
   "metadata": {
    "colab": {
     "base_uri": "https://localhost:8080/"
    },
    "executionInfo": {
     "elapsed": 191450,
     "status": "ok",
     "timestamp": 1745313701084,
     "user": {
      "displayName": "Nguyễn Bá Tiến",
      "userId": "00517937337191725625"
     },
     "user_tz": -420
    },
    "id": "MrsKqp-8sU40",
    "outputId": "dd32f24b-f80d-41e7-f2aa-3f59d0241d42"
   },
   "outputs": [
    {
     "name": "stdout",
     "output_type": "stream",
     "text": [
      "Đang tải mô hình Whisper large...\n",
      "100%|█████████████████████████████████████| 2.88G/2.88G [00:38<00:00, 80.8MiB/s]\n",
      "Thời gian tải mô hình: 86.11 giây\n",
      "Đang xử lý file audio: output2.mp3\n",
      "/usr/local/lib/python3.11/dist-packages/whisper/transcribe.py:126: UserWarning: FP16 is not supported on CPU; using FP32 instead\n",
      "  warnings.warn(\"FP16 is not supported on CPU; using FP32 instead\")\n",
      "Thời gian chuyển đổi: 98.42 giây\n",
      "Đã lưu văn bản vào: output2.txt\n",
      "Tổng thời gian xử lý: 184.53 giây\n",
      "Văn bản được chuyển đổi:\n",
      " Con xin chào tất cả mọi người. Con tên là Nguyện Bảo Ngọc, năm nay con học lớp 1, môn học yêu thích nhất của con là môn toán. Môn thể thao mà con thích chơi nhất là môn cầu lông. Cảm ơn mọi người đã lắng nghe.\n",
      "Thời gian thực thi toàn bộ script: 185.06 giây\n"
     ]
    }
   ],
   "source": [
    "!python Whisper-openai.py output2.mp3 --model large --language vi"
   ]
  },
  {
   "cell_type": "code",
   "execution_count": null,
   "metadata": {
    "colab": {
     "base_uri": "https://localhost:8080/"
    },
    "collapsed": true,
    "executionInfo": {
     "elapsed": 3230,
     "status": "ok",
     "timestamp": 1745314356683,
     "user": {
      "displayName": "Nguyễn Bá Tiến",
      "userId": "00517937337191725625"
     },
     "user_tz": -420
    },
    "id": "OzuWEb5Etg7l",
    "outputId": "7298bf35-51c2-4719-d666-7c4dd6e9d807"
   },
   "outputs": [
    {
     "name": "stdout",
     "output_type": "stream",
     "text": [
      "Chuyển đổi .mp3 sang WAV...\n",
      "ffmpeg version 4.4.2-0ubuntu0.22.04.1 Copyright (c) 2000-2021 the FFmpeg developers\n",
      "  built with gcc 11 (Ubuntu 11.2.0-19ubuntu1)\n",
      "  configuration: --prefix=/usr --extra-version=0ubuntu0.22.04.1 --toolchain=hardened --libdir=/usr/lib/x86_64-linux-gnu --incdir=/usr/include/x86_64-linux-gnu --arch=amd64 --enable-gpl --disable-stripping --enable-gnutls --enable-ladspa --enable-libaom --enable-libass --enable-libbluray --enable-libbs2b --enable-libcaca --enable-libcdio --enable-libcodec2 --enable-libdav1d --enable-libflite --enable-libfontconfig --enable-libfreetype --enable-libfribidi --enable-libgme --enable-libgsm --enable-libjack --enable-libmp3lame --enable-libmysofa --enable-libopenjpeg --enable-libopenmpt --enable-libopus --enable-libpulse --enable-librabbitmq --enable-librubberband --enable-libshine --enable-libsnappy --enable-libsoxr --enable-libspeex --enable-libsrt --enable-libssh --enable-libtheora --enable-libtwolame --enable-libvidstab --enable-libvorbis --enable-libvpx --enable-libwebp --enable-libx265 --enable-libxml2 --enable-libxvid --enable-libzimg --enable-libzmq --enable-libzvbi --enable-lv2 --enable-omx --enable-openal --enable-opencl --enable-opengl --enable-sdl2 --enable-pocketsphinx --enable-librsvg --enable-libmfx --enable-libdc1394 --enable-libdrm --enable-libiec61883 --enable-chromaprint --enable-frei0r --enable-libx264 --enable-shared\n",
      "  libavutil      56. 70.100 / 56. 70.100\n",
      "  libavcodec     58.134.100 / 58.134.100\n",
      "  libavformat    58. 76.100 / 58. 76.100\n",
      "  libavdevice    58. 13.100 / 58. 13.100\n",
      "  libavfilter     7.110.100 /  7.110.100\n",
      "  libswscale      5.  9.100 /  5.  9.100\n",
      "  libswresample   3.  9.100 /  3.  9.100\n",
      "  libpostproc    55.  9.100 / 55.  9.100\n",
      "\u001b[0;35m[mp3 @ 0x597fac4b2040] \u001b[0m\u001b[0;33mEstimating duration from bitrate, this may be inaccurate\n",
      "\u001b[0mInput #0, mp3, from 'output2.mp3':\n",
      "  Duration: 00:00:12.82, start: 0.000000, bitrate: 56 kb/s\n",
      "  Stream #0:0: Audio: mp3, 24000 Hz, mono, fltp, 56 kb/s\n",
      "Stream mapping:\n",
      "  Stream #0:0 -> #0:0 (mp3 (mp3float) -> pcm_s16le (native))\n",
      "Press [q] to stop, [?] for help\n",
      "Output #0, wav, to 'output2_temp.wav':\n",
      "  Metadata:\n",
      "    ISFT            : Lavf58.76.100\n",
      "  Stream #0:0: Audio: pcm_s16le ([1][0][0][0] / 0x0001), 16000 Hz, mono, s16, 256 kb/s\n",
      "    Metadata:\n",
      "      encoder         : Lavc58.134.100 pcm_s16le\n",
      "size=       1kB time=00:00:00.00 bitrate=N/A speed=N/A    \r\u001b[0;36m[mp3float @ 0x597fac4b7540] \u001b[0moverread, skip -8 enddists: -1 -1\n",
      "\u001b[0;36m[mp3float @ 0x597fac4b7540] \u001b[0moverread, skip -7 enddists: -2 -2\n",
      "\u001b[0;36m[mp3float @ 0x597fac4b7540] \u001b[0moverread, skip -5 enddists: -2 -2\n",
      "size=     401kB time=00:00:12.81 bitrate= 256.1kbits/s speed= 418x    \n",
      "video:0kB audio:400kB subtitle:0kB other streams:0kB global headers:0kB muxing overhead: 0.019019%\n",
      "Thời gian chuyển đổi định dạng: 0.14 giây\n",
      "Đang tải mô hình từ vosk-model-vn-0.4...\n",
      "Thời gian tải mô hình: 1.28 giây\n",
      "Đang chuyển đổi audio thành văn bản...\n",
      "Thời gian nhận dạng: 1.40 giây\n",
      "Đã lưu văn bản vào: output2_vosk-model-vn-0.4.txt\n",
      "Thời gian xử lý kết quả: 0.01 giây\n",
      "\n",
      "===== THỐNG KÊ THỜI GIAN (vosk-model-vn-0.4) =====\n",
      "Thời gian tải mô hình: 0.00 giây\n",
      "Thời gian tải mô hình vào bộ nhớ: 1.28 giây\n",
      "Thời gian chuyển đổi định dạng: 0.14 giây\n",
      "Thời gian nhận dạng: 1.40 giây\n",
      "Thời gian xử lý kết quả: 0.01 giây\n",
      "Tổng thời gian xử lý: 2.83 giây\n",
      "=============================\n",
      "\n",
      "Kết quả:\n",
      "con xin chào tất cả mọi người con là nguyễn bảo ngọc năm nay con học lớp một môn học yêu thích nhất của cô là môn toán môn thể thao mặt con thích chơi nhất là môn cầu lông cảm ơn mọi người đã lắng nghe\n",
      "Thời gian chạy toàn bộ script: 2.85 giây\n"
     ]
    }
   ],
   "source": [
    "!python3 Vork.py output2.mp3 --model vosk-model-vn-0.4"
   ]
  },
  {
   "cell_type": "code",
   "execution_count": null,
   "metadata": {
    "colab": {
     "base_uri": "https://localhost:8080/"
    },
    "executionInfo": {
     "elapsed": 39158,
     "status": "ok",
     "timestamp": 1745317520730,
     "user": {
      "displayName": "Nguyễn Bá Tiến",
      "userId": "00517937337191725625"
     },
     "user_tz": -420
    },
    "id": "rEeoFPRRuIrQ",
    "outputId": "99d05ab1-2454-4dea-d07e-2f4902cb4578"
   },
   "outputs": [
    {
     "name": "stdout",
     "output_type": "stream",
     "text": [
      "2025-04-22 10:25:02.450084: E external/local_xla/xla/stream_executor/cuda/cuda_fft.cc:477] Unable to register cuFFT factory: Attempting to register factory for plugin cuFFT when one has already been registered\n",
      "WARNING: All log messages before absl::InitializeLog() is called are written to STDERR\n",
      "E0000 00:00:1745317502.517550   36397 cuda_dnn.cc:8310] Unable to register cuDNN factory: Attempting to register factory for plugin cuDNN when one has already been registered\n",
      "E0000 00:00:1745317502.533623   36397 cuda_blas.cc:1418] Unable to register cuBLAS factory: Attempting to register factory for plugin cuBLAS when one has already been registered\n",
      "2025-04-22 10:25:02.587952: I tensorflow/core/platform/cpu_feature_guard.cc:210] This TensorFlow binary is optimized to use available CPU instructions in performance-critical operations.\n",
      "To enable the following instructions: AVX2 FMA, in other operations, rebuild TensorFlow with the appropriate compiler flags.\n",
      "Đang tải mô hình và processor cho nguyenvulebinh/wav2vec2-base-vietnamese-250h...\n",
      "/usr/local/lib/python3.11/dist-packages/transformers/configuration_utils.py:311: UserWarning: Passing `gradient_checkpointing` to a config initialization is deprecated and will be removed in v5 Transformers. Using `model.gradient_checkpointing_enable()` instead, or if you are using the `Trainer` API, pass `gradient_checkpointing=True` in your `TrainingArguments`.\n",
      "  warnings.warn(\n",
      "Thời gian tải mô hình: 1.41 giây\n",
      "Đang sử dụng thiết bị: cpu\n",
      "Đang xử lý file audio: output2.mp3\n",
      "Thời gian tải và xử lý audio: 2.51 giây\n",
      "Thời gian tokenize: 0.00 giây\n",
      "Thời gian inference: 3.85 giây\n",
      "Thời gian xử lý đầu ra: 0.02 giây\n",
      "Đã lưu văn bản vào: output2.txt\n",
      "\n",
      "===== THỐNG KÊ THỜI GIAN =====\n",
      "Thời gian tải mô hình: 1.41 giây\n",
      "Thời gian tải và xử lý audio: 2.51 giây\n",
      "Thời gian tokenize: 0.00 giây\n",
      "Thời gian inference: 3.85 giây\n",
      "Thời gian xử lý đầu ra: 0.02 giây\n",
      "Tổng thời gian xử lý: 7.79 giây\n",
      "=============================\n",
      "\n",
      "Văn bản được chuyển đổi:\n",
      "con xin chào tất cả mọi người con tên là nguyện bảo ngọc năm nay con học lớp một môn học yêu thích nhất của con là môn toán môn thể thao mà con thích chơi nhất là môn cầu lông cảm ơn mọi người đã lắng nghe\n",
      "Thời gian chạy toàn bộ script: 7.80 giây\n"
     ]
    }
   ],
   "source": [
    "!python3 wav2vec2.0.py output2.mp3 --format txt\n"
   ]
  },
  {
   "cell_type": "code",
   "execution_count": null,
   "metadata": {
    "colab": {
     "base_uri": "https://localhost:8080/"
    },
    "executionInfo": {
     "elapsed": 14508,
     "status": "ok",
     "timestamp": 1745316319998,
     "user": {
      "displayName": "Nguyễn Bá Tiến",
      "userId": "00517937337191725625"
     },
     "user_tz": -420
    },
    "id": "u7_nyt7qwtQE",
    "outputId": "b5b70415-1f7f-482a-922e-7c28fe2f0513"
   },
   "outputs": [
    {
     "name": "stdout",
     "output_type": "stream",
     "text": [
      "Đang tải mô hình Faster-Whisper tiny trên cpu...\n",
      "Thời gian tải mô hình: 1.52 giây\n",
      "Đang xử lý file audio: output2.mp3\n",
      "Thời gian inference: 6.85 giây\n",
      "Đã phát hiện ngôn ngữ: vi (độ tin cậy: 1.00)\n",
      "Đã lưu văn bản vào: output2.txt\n",
      "Thời gian xử lý đầu ra: 0.02 giây\n",
      "\n",
      "===== THỐNG KÊ THỜI GIAN =====\n",
      "Thời gian tải mô hình: 1.52 giây\n",
      "Thời gian inference: 6.85 giây\n",
      "Thời gian xử lý đầu ra: 0.02 giây\n",
      "Tổng thời gian xử lý: 8.39 giây\n",
      "=============================\n",
      "\n",
      "Văn bản được chuyển đổi:\n",
      "Còn sinh chào tất cả mọi người, con tên là người bảo ngọc,  năm nay con học lúc 1, 1 học yêu thích nhất của con là 1 toán.  1 thể thao mà con thích cho nhất là 1 cầu lông,  cảm ơn mọi người đã lắng nghe.\n",
      "Thời gian chạy toàn bộ script: 8.49 giây\n"
     ]
    }
   ],
   "source": [
    "!python3 fwhisper.py output2.mp3 --model tiny --device cpu --language vi"
   ]
  },
  {
   "cell_type": "code",
   "execution_count": null,
   "metadata": {
    "colab": {
     "base_uri": "https://localhost:8080/"
    },
    "executionInfo": {
     "elapsed": 18760,
     "status": "ok",
     "timestamp": 1745308931247,
     "user": {
      "displayName": "Nguyễn Bá Tiến",
      "userId": "00517937337191725625"
     },
     "user_tz": -420
    },
    "id": "nsmEMWE-PeV6",
    "outputId": "346a0da6-93e8-4300-d1f4-cbc3f9310aca"
   },
   "outputs": [
    {
     "name": "stdout",
     "output_type": "stream",
     "text": [
      "2025-04-22 08:01:58.018347: E external/local_xla/xla/stream_executor/cuda/cuda_fft.cc:477] Unable to register cuFFT factory: Attempting to register factory for plugin cuFFT when one has already been registered\n",
      "WARNING: All log messages before absl::InitializeLog() is called are written to STDERR\n",
      "E0000 00:00:1745308918.045050   26739 cuda_dnn.cc:8310] Unable to register cuDNN factory: Attempting to register factory for plugin cuDNN when one has already been registered\n",
      "E0000 00:00:1745308918.051479   26739 cuda_blas.cc:1418] Unable to register cuBLAS factory: Attempting to register factory for plugin cuBLAS when one has already been registered\n",
      "2025-04-22 08:01:58.073405: I tensorflow/core/platform/cpu_feature_guard.cc:210] This TensorFlow binary is optimized to use available CPU instructions in performance-critical operations.\n",
      "To enable the following instructions: AVX2 AVX512F FMA, in other operations, rebuild TensorFlow with the appropriate compiler flags.\n",
      "Đang tải processor và model từ openai/whisper-tiny...\n",
      "Thời gian tải mô hình: 3.84 giây\n",
      "Đang tải file audio: output1.mp3\n",
      "Thời gian tải audio: 1.22 giây\n",
      "Thời gian xử lý đầu vào: 0.04 giây\n",
      "The attention mask is not set and cannot be inferred from input because pad token is same as eos token. As a consequence, you may observe unexpected behavior. Please pass your input's `attention_mask` to obtain reliable results.\n",
      "Thời gian inference: 1.35 giây\n",
      "Thời gian giải mã: 0.07 giây\n",
      "Đã lưu văn bản vào: output1.txt\n",
      "Thời gian xử lý đầu ra: 0.01 giây\n",
      "\n",
      "===== THỐNG KÊ THỜI GIAN =====\n",
      "Thời gian tải mô hình: 3.84 giây\n",
      "Thời gian tải audio: 1.22 giây\n",
      "Thời gian xử lý đầu vào: 0.04 giây\n",
      "Thời gian inference: 1.35 giây\n",
      "Thời gian giải mã: 0.07 giây\n",
      "Thời gian xử lý đầu ra: 0.01 giây\n",
      "Tổng thời gian xử lý: 6.54 giây\n",
      "=============================\n",
      "\n",
      "Văn bản được chuyển đổi:\n",
      " Con xin chào tất cả mọi người con trên lần quyền văn ngà. Năm này con học lúc 1, 1 học yêu thích nhất của con là 1 toán. 1 thế thào mà con thích chơi nhất là 1 câu lông. Cá mới 1 người đã lắng nghe.\n",
      "Thời gian chạy toàn bộ script: 6.55 giây\n"
     ]
    }
   ],
   "source": [
    "!python3 distil-whisper.py output1.mp3 --device cuda"
   ]
  },
  {
   "cell_type": "code",
   "execution_count": null,
   "metadata": {
    "colab": {
     "base_uri": "https://localhost:8080/"
    },
    "executionInfo": {
     "elapsed": 14064,
     "status": "ok",
     "timestamp": 1745310258980,
     "user": {
      "displayName": "Nguyễn Bá Tiến",
      "userId": "00517937337191725625"
     },
     "user_tz": -420
    },
    "id": "2w7Dl5-pRcIR",
    "outputId": "8b1ed5d4-3cee-466c-b440-3e5ebf01620a"
   },
   "outputs": [
    {
     "name": "stdout",
     "output_type": "stream",
     "text": [
      "2025-04-22 08:24:11.019969: E external/local_xla/xla/stream_executor/cuda/cuda_fft.cc:477] Unable to register cuFFT factory: Attempting to register factory for plugin cuFFT when one has already been registered\n",
      "WARNING: All log messages before absl::InitializeLog() is called are written to STDERR\n",
      "E0000 00:00:1745310251.043550   32485 cuda_dnn.cc:8310] Unable to register cuDNN factory: Attempting to register factory for plugin cuDNN when one has already been registered\n",
      "E0000 00:00:1745310251.050508   32485 cuda_blas.cc:1418] Unable to register cuBLAS factory: Attempting to register factory for plugin cuBLAS when one has already been registered\n",
      "2025-04-22 08:24:11.073752: I tensorflow/core/platform/cpu_feature_guard.cc:210] This TensorFlow binary is optimized to use available CPU instructions in performance-critical operations.\n",
      "To enable the following instructions: AVX2 AVX512F FMA, in other operations, rebuild TensorFlow with the appropriate compiler flags.\n",
      "Đang tải processor và model từ ibm-granite/granite-speech-3.3-8b...\n",
      "Traceback (most recent call last):\n",
      "  File \"/usr/local/lib/python3.11/dist-packages/transformers/models/auto/configuration_auto.py\", line 1131, in from_pretrained\n",
      "    config_class = CONFIG_MAPPING[config_dict[\"model_type\"]]\n",
      "                   ~~~~~~~~~~~~~~^^^^^^^^^^^^^^^^^^^^^^^^^^^\n",
      "  File \"/usr/local/lib/python3.11/dist-packages/transformers/models/auto/configuration_auto.py\", line 833, in __getitem__\n",
      "    raise KeyError(key)\n",
      "KeyError: 'granite_speech'\n",
      "\n",
      "During handling of the above exception, another exception occurred:\n",
      "\n",
      "Traceback (most recent call last):\n",
      "  File \"/content/drive/MyDrive/speech recognition/gera.py\", line 144, in <module>\n",
      "    transcribe_with_granite(args.audio_path, args.model, args.device, args.format)\n",
      "  File \"/content/drive/MyDrive/speech recognition/gera.py\", line 30, in transcribe_with_granite\n",
      "    processor = AutoProcessor.from_pretrained(model_name)\n",
      "                ^^^^^^^^^^^^^^^^^^^^^^^^^^^^^^^^^^^^^^^^^\n",
      "  File \"/usr/local/lib/python3.11/dist-packages/transformers/models/auto/processing_auto.py\", line 318, in from_pretrained\n",
      "    config = AutoConfig.from_pretrained(\n",
      "             ^^^^^^^^^^^^^^^^^^^^^^^^^^^\n",
      "  File \"/usr/local/lib/python3.11/dist-packages/transformers/models/auto/configuration_auto.py\", line 1133, in from_pretrained\n",
      "    raise ValueError(\n",
      "ValueError: The checkpoint you are trying to load has model type `granite_speech` but Transformers does not recognize this architecture. This could be because of an issue with the checkpoint, or because your version of Transformers is out of date.\n",
      "\n",
      "You can update Transformers with the command `pip install --upgrade transformers`. If this does not work, and the checkpoint is very new, then there may not be a release version that supports this model yet. In this case, you can get the most up-to-date code by installing Transformers from source with the command `pip install git+https://github.com/huggingface/transformers.git`\n"
     ]
    }
   ],
   "source": [
    "!python3 gera.py output2.mp3"
   ]
  },
  {
   "cell_type": "code",
   "execution_count": null,
   "metadata": {
    "colab": {
     "base_uri": "https://localhost:8080/"
    },
    "executionInfo": {
     "elapsed": 3980,
     "status": "ok",
     "timestamp": 1745310178365,
     "user": {
      "displayName": "Nguyễn Bá Tiến",
      "userId": "00517937337191725625"
     },
     "user_tz": -420
    },
    "id": "aExwQ2FPl71i",
    "outputId": "88b42bea-b796-4498-ace1-385afd552f87"
   },
   "outputs": [
    {
     "name": "stdout",
     "output_type": "stream",
     "text": [
      "Requirement already satisfied: transformers in /usr/local/lib/python3.11/dist-packages (4.51.3)\n",
      "Requirement already satisfied: filelock in /usr/local/lib/python3.11/dist-packages (from transformers) (3.18.0)\n",
      "Requirement already satisfied: huggingface-hub<1.0,>=0.30.0 in /usr/local/lib/python3.11/dist-packages (from transformers) (0.30.2)\n",
      "Requirement already satisfied: numpy>=1.17 in /usr/local/lib/python3.11/dist-packages (from transformers) (2.0.2)\n",
      "Requirement already satisfied: packaging>=20.0 in /usr/local/lib/python3.11/dist-packages (from transformers) (24.2)\n",
      "Requirement already satisfied: pyyaml>=5.1 in /usr/local/lib/python3.11/dist-packages (from transformers) (6.0.2)\n",
      "Requirement already satisfied: regex!=2019.12.17 in /usr/local/lib/python3.11/dist-packages (from transformers) (2024.11.6)\n",
      "Requirement already satisfied: requests in /usr/local/lib/python3.11/dist-packages (from transformers) (2.32.3)\n",
      "Requirement already satisfied: tokenizers<0.22,>=0.21 in /usr/local/lib/python3.11/dist-packages (from transformers) (0.21.1)\n",
      "Requirement already satisfied: safetensors>=0.4.3 in /usr/local/lib/python3.11/dist-packages (from transformers) (0.5.3)\n",
      "Requirement already satisfied: tqdm>=4.27 in /usr/local/lib/python3.11/dist-packages (from transformers) (4.67.1)\n",
      "Requirement already satisfied: fsspec>=2023.5.0 in /usr/local/lib/python3.11/dist-packages (from huggingface-hub<1.0,>=0.30.0->transformers) (2024.12.0)\n",
      "Requirement already satisfied: typing-extensions>=3.7.4.3 in /usr/local/lib/python3.11/dist-packages (from huggingface-hub<1.0,>=0.30.0->transformers) (4.13.2)\n",
      "Requirement already satisfied: charset-normalizer<4,>=2 in /usr/local/lib/python3.11/dist-packages (from requests->transformers) (3.4.1)\n",
      "Requirement already satisfied: idna<4,>=2.5 in /usr/local/lib/python3.11/dist-packages (from requests->transformers) (3.10)\n",
      "Requirement already satisfied: urllib3<3,>=1.21.1 in /usr/local/lib/python3.11/dist-packages (from requests->transformers) (2.3.0)\n",
      "Requirement already satisfied: certifi>=2017.4.17 in /usr/local/lib/python3.11/dist-packages (from requests->transformers) (2025.1.31)\n"
     ]
    }
   ],
   "source": [
    "!pip install --upgrade transformers\n",
    "\n"
   ]
  },
  {
   "cell_type": "code",
   "execution_count": null,
   "metadata": {
    "colab": {
     "base_uri": "https://localhost:8080/"
    },
    "executionInfo": {
     "elapsed": 551,
     "status": "ok",
     "timestamp": 1745312789708,
     "user": {
      "displayName": "Nguyễn Bá Tiến",
      "userId": "00517937337191725625"
     },
     "user_tz": -420
    },
    "id": "LLzUmTZxvzef",
    "outputId": "2cba0ea6-86b1-4eba-c212-44b565e313c8"
   },
   "outputs": [
    {
     "name": "stdout",
     "output_type": "stream",
     "text": [
      "\n",
      "===== BÁO CÁO ĐÁNH GIÁ SPEECH RECOGNITION =====\n",
      "Word Error Rate (WER): 0.0625 (6.25%)\n",
      "Character Error Rate (CER): 0.0390 (3.90%)\n",
      "Word Accuracy: 0.9375 (93.75%)\n",
      "Character Accuracy: 0.9610 (96.10%)\n",
      "\n",
      "Phân tích lỗi:\n",
      "- Substitutions (thay thế): 0\n",
      "- Deletions (xóa): 3\n",
      "- Insertions (chèn): 2\n",
      "\n",
      "Độ dài văn bản chuẩn: 48 từ\n",
      "Độ dài văn bản nhận dạng: 47 từ\n",
      "\n",
      "Các từ lỗi:\n",
      "1. Chuẩn: 'tên' → Nhận dạng: 'là'\n",
      "2. Chuẩn: 'là' → Nhận dạng: 'nguyễn'\n",
      "3. Chuẩn: 'nguyễn' → Nhận dạng: 'bảo'\n",
      "4. Chuẩn: 'bảo' → Nhận dạng: 'ngọc'\n",
      "5. Chuẩn: 'ngọc' → Nhận dạng: 'năm'\n",
      "6. Chuẩn: 'năm' → Nhận dạng: 'nay'\n",
      "7. Chuẩn: 'nay' → Nhận dạng: 'con'\n",
      "8. Chuẩn: 'con' → Nhận dạng: 'học'\n",
      "9. Chuẩn: 'học' → Nhận dạng: 'lớp'\n",
      "10. Chuẩn: 'lớp' → Nhận dạng: 'một'\n",
      "11. Chuẩn: 'một' → Nhận dạng: 'môn'\n",
      "12. Chuẩn: 'môn' → Nhận dạng: 'học'\n",
      "13. Chuẩn: 'học' → Nhận dạng: 'yêu'\n",
      "14. Chuẩn: 'yêu' → Nhận dạng: 'thích'\n",
      "15. Chuẩn: 'thích' → Nhận dạng: 'nhất'\n",
      "16. Chuẩn: 'nhất' → Nhận dạng: 'của'\n",
      "17. Chuẩn: 'của' → Nhận dạng: 'cô'\n",
      "18. Chuẩn: 'con' → Nhận dạng: 'là'\n",
      "19. Chuẩn: 'là' → Nhận dạng: 'môn'\n",
      "20. Chuẩn: 'môn' → Nhận dạng: 'toán'\n",
      "21. Chuẩn: 'toán' → Nhận dạng: 'môn'\n",
      "22. Chuẩn: 'môn' → Nhận dạng: 'thể'\n",
      "23. Chuẩn: 'thể' → Nhận dạng: 'thao'\n",
      "24. Chuẩn: 'thao' → Nhận dạng: 'mặt'\n",
      "25. Chuẩn: 'mà' → Nhận dạng: 'con'\n",
      "26. Chuẩn: 'con' → Nhận dạng: 'thích'\n",
      "27. Chuẩn: 'thích' → Nhận dạng: 'chơi'\n",
      "28. Chuẩn: 'chơi' → Nhận dạng: 'nhất'\n",
      "29. Chuẩn: 'nhất' → Nhận dạng: 'là'\n",
      "30. Chuẩn: 'là' → Nhận dạng: 'môn'\n",
      "31. Chuẩn: 'môn' → Nhận dạng: 'cầu'\n",
      "32. Chuẩn: 'cầu' → Nhận dạng: 'lông'\n",
      "33. Chuẩn: 'lông' → Nhận dạng: 'cảm'\n",
      "34. Chuẩn: 'cảm' → Nhận dạng: 'ơn'\n",
      "35. Chuẩn: 'ơn' → Nhận dạng: 'mọi'\n",
      "36. Chuẩn: 'mọi' → Nhận dạng: 'người'\n",
      "37. Chuẩn: 'người' → Nhận dạng: 'đã'\n",
      "38. Chuẩn: 'đã' → Nhận dạng: 'lắng'\n",
      "39. Chuẩn: 'lắng' → Nhận dạng: 'nghe'\n",
      "40. Chuẩn: 'nghe' → Nhận dạng: '[MISSING]'\n",
      "===============================================\n"
     ]
    }
   ],
   "source": [
    "!python3 vadiation.py"
   ]
  },
  {
   "cell_type": "code",
   "execution_count": null,
   "metadata": {
    "colab": {
     "base_uri": "https://localhost:8080/"
    },
    "executionInfo": {
     "elapsed": 6675,
     "status": "ok",
     "timestamp": 1745312785975,
     "user": {
      "displayName": "Nguyễn Bá Tiến",
      "userId": "00517937337191725625"
     },
     "user_tz": -420
    },
    "id": "pVk4iVtrv3oW",
    "outputId": "783c2aaf-fdbb-4147-c5f7-bad81e991055"
   },
   "outputs": [
    {
     "name": "stdout",
     "output_type": "stream",
     "text": [
      "Collecting jiwer\n",
      "  Downloading jiwer-3.1.0-py3-none-any.whl.metadata (2.6 kB)\n",
      "Requirement already satisfied: click>=8.1.8 in /usr/local/lib/python3.11/dist-packages (from jiwer) (8.1.8)\n",
      "Collecting rapidfuzz>=3.9.7 (from jiwer)\n",
      "  Downloading rapidfuzz-3.13.0-cp311-cp311-manylinux_2_17_x86_64.manylinux2014_x86_64.whl.metadata (12 kB)\n",
      "Downloading jiwer-3.1.0-py3-none-any.whl (22 kB)\n",
      "Downloading rapidfuzz-3.13.0-cp311-cp311-manylinux_2_17_x86_64.manylinux2014_x86_64.whl (3.1 MB)\n",
      "\u001b[2K   \u001b[90m━━━━━━━━━━━━━━━━━━━━━━━━━━━━━━━━━━━━━━━━\u001b[0m \u001b[32m3.1/3.1 MB\u001b[0m \u001b[31m28.4 MB/s\u001b[0m eta \u001b[36m0:00:00\u001b[0m\n",
      "\u001b[?25hInstalling collected packages: rapidfuzz, jiwer\n",
      "Successfully installed jiwer-3.1.0 rapidfuzz-3.13.0\n"
     ]
    }
   ],
   "source": [
    "!pip install jiwer"
   ]
  },
  {
   "cell_type": "code",
   "execution_count": null,
   "metadata": {
    "id": "k1-HlElDxtmT"
   },
   "outputs": [],
   "source": []
  },
  {
   "cell_type": "code",
   "execution_count": null,
   "metadata": {
    "colab": {
     "base_uri": "https://localhost:8080/"
    },
    "executionInfo": {
     "elapsed": 2704,
     "status": "ok",
     "timestamp": 1745315306388,
     "user": {
      "displayName": "Nguyễn Bá Tiến",
      "userId": "00517937337191725625"
     },
     "user_tz": -420
    },
    "id": "2qEo8cmXxqsd",
    "outputId": "5e04b84a-e09e-4d5e-d608-053a2ca5acd3"
   },
   "outputs": [
    {
     "name": "stdout",
     "output_type": "stream",
     "text": [
      "\n",
      "===== SO SÁNH HIỆU SUẤT CÁC MÔ HÌNH =====\n",
      "+-------------------------+-----------+-----------+-----------------+-----------------+\n",
      "| Mô hình                 |   WER (%) |   CER (%) |   Word Acc. (%) |   Char Acc. (%) |\n",
      "+=========================+===========+===========+=================+=================+\n",
      "| faster-whisper-small    |      2.08 |      1.46 |           97.92 |           98.54 |\n",
      "+-------------------------+-----------+-----------+-----------------+-----------------+\n",
      "| faster-whisper-large    |      2.08 |      0.49 |           97.92 |           99.51 |\n",
      "+-------------------------+-----------+-----------+-----------------+-----------------+\n",
      "| origin-whisper-medium   |      4.17 |      1.95 |           95.83 |           98.05 |\n",
      "+-------------------------+-----------+-----------+-----------------+-----------------+\n",
      "| origin-whisper-large    |      4.17 |      1.95 |           95.83 |           98.05 |\n",
      "+-------------------------+-----------+-----------+-----------------+-----------------+\n",
      "| faster-whisper-medium   |      6.25 |      3.9  |           93.75 |           96.1  |\n",
      "+-------------------------+-----------+-----------+-----------------+-----------------+\n",
      "| vosk-model-small-vn-0.3 |      6.25 |      3.9  |           93.75 |           96.1  |\n",
      "+-------------------------+-----------+-----------+-----------------+-----------------+\n",
      "| vosk-model-small-vn-0.4 |      6.25 |      3.9  |           93.75 |           96.1  |\n",
      "+-------------------------+-----------+-----------+-----------------+-----------------+\n",
      "| vosk-model-vn-0.4       |      6.25 |      3.9  |           93.75 |           96.1  |\n",
      "+-------------------------+-----------+-----------+-----------------+-----------------+\n",
      "| origin-whisper-small    |     12.5  |      3.9  |           87.5  |           96.1  |\n",
      "+-------------------------+-----------+-----------+-----------------+-----------------+\n",
      "| faster-whisper-base     |     12.5  |      3.9  |           87.5  |           96.1  |\n",
      "+-------------------------+-----------+-----------+-----------------+-----------------+\n",
      "| origin-whisper-tiny     |     14.58 |      6.83 |           85.42 |           93.17 |\n",
      "+-------------------------+-----------+-----------+-----------------+-----------------+\n",
      "| origin-whisper-base     |     14.58 |      6.83 |           85.42 |           93.17 |\n",
      "+-------------------------+-----------+-----------+-----------------+-----------------+\n",
      "| faster-whisper-tiny     |     20.83 |     12.68 |           79.17 |           87.32 |\n",
      "+-------------------------+-----------+-----------+-----------------+-----------------+\n",
      "| wav2vec 2.0             |     37.5  |     19.51 |           62.5  |           80.49 |\n",
      "+-------------------------+-----------+-----------+-----------------+-----------------+\n",
      "Đã lưu biểu đồ so sánh tại: asr_model_comparison.png\n",
      "Figure(1200x600)\n",
      "\n",
      "===== BÁO CÁO ĐÁNH GIÁ MÔ HÌNH: origin-whisper-tiny =====\n",
      "Word Error Rate (WER): 0.1458 (14.58%)\n",
      "Character Error Rate (CER): 0.0683 (6.83%)\n",
      "Word Accuracy: 0.8542 (85.42%)\n",
      "Character Accuracy: 0.9317 (93.17%)\n",
      "\n",
      "Phân tích lỗi:\n",
      "- Substitutions (thay thế): 4\n",
      "- Deletions (xóa): 7\n",
      "- Insertions (chèn): 7\n",
      "\n",
      "Độ dài văn bản chuẩn: 48 từ\n",
      "Độ dài văn bản nhận dạng: 48 từ\n",
      "\n",
      "Các từ lỗi:\n",
      "1. Chuẩn: 'xin' → Nhận dạng: 'sinh'\n",
      "2. Chuẩn: 'nguyễn' → Nhận dạng: 'người'\n",
      "3. Chuẩn: 'ngọc' → Nhận dạng: 'ngọt'\n",
      "4. Chuẩn: 'lớp' → Nhận dạng: 'lúc'\n",
      "5. Chuẩn: 'môn' → Nhận dạng: 'một'\n",
      "6. Chuẩn: 'toán' → Nhận dạng: 'tuán'\n",
      "7. Chuẩn: 'chơi' → Nhận dạng: 'cho'\n",
      "===============================================\n",
      "\n",
      "===== BÁO CÁO ĐÁNH GIÁ MÔ HÌNH: origin-whisper-base =====\n",
      "Word Error Rate (WER): 0.1458 (14.58%)\n",
      "Character Error Rate (CER): 0.0683 (6.83%)\n",
      "Word Accuracy: 0.8542 (85.42%)\n",
      "Character Accuracy: 0.9317 (93.17%)\n",
      "\n",
      "Phân tích lỗi:\n",
      "- Substitutions (thay thế): 2\n",
      "- Deletions (xóa): 7\n",
      "- Insertions (chèn): 7\n",
      "\n",
      "Độ dài văn bản chuẩn: 48 từ\n",
      "Độ dài văn bản nhận dạng: 48 từ\n",
      "\n",
      "Các từ lỗi:\n",
      "1. Chuẩn: 'xin' → Nhận dạng: 'sinh'\n",
      "2. Chuẩn: 'nguyễn' → Nhận dạng: 'nguyện'\n",
      "3. Chuẩn: 'một' → Nhận dạng: '1'\n",
      "4. Chuẩn: 'môn' → Nhận dạng: 'muốn'\n",
      "5. Chuẩn: 'môn' → Nhận dạng: 'muốn'\n",
      "6. Chuẩn: 'môn' → Nhận dạng: 'muốn'\n",
      "7. Chuẩn: 'môn' → Nhận dạng: 'muốn'\n",
      "===============================================\n",
      "\n",
      "===== BÁO CÁO ĐÁNH GIÁ MÔ HÌNH: origin-whisper-small =====\n",
      "Word Error Rate (WER): 0.1250 (12.50%)\n",
      "Character Error Rate (CER): 0.0390 (3.90%)\n",
      "Word Accuracy: 0.8750 (87.50%)\n",
      "Character Accuracy: 0.9610 (96.10%)\n",
      "\n",
      "Phân tích lỗi:\n",
      "- Substitutions (thay thế): 6\n",
      "- Deletions (xóa): 6\n",
      "- Insertions (chèn): 6\n",
      "\n",
      "Độ dài văn bản chuẩn: 48 từ\n",
      "Độ dài văn bản nhận dạng: 48 từ\n",
      "\n",
      "Các từ lỗi:\n",
      "1. Chuẩn: 'nguyễn' → Nhận dạng: 'nguyện'\n",
      "2. Chuẩn: 'một' → Nhận dạng: '1'\n",
      "3. Chuẩn: 'môn' → Nhận dạng: 'muôn'\n",
      "4. Chuẩn: 'môn' → Nhận dạng: 'muôn'\n",
      "5. Chuẩn: 'môn' → Nhận dạng: 'muôn'\n",
      "6. Chuẩn: 'môn' → Nhận dạng: 'muôn'\n",
      "===============================================\n",
      "\n",
      "===== BÁO CÁO ĐÁNH GIÁ MÔ HÌNH: origin-whisper-medium =====\n",
      "Word Error Rate (WER): 0.0417 (4.17%)\n",
      "Character Error Rate (CER): 0.0195 (1.95%)\n",
      "Word Accuracy: 0.9583 (95.83%)\n",
      "Character Accuracy: 0.9805 (98.05%)\n",
      "\n",
      "Phân tích lỗi:\n",
      "- Substitutions (thay thế): 2\n",
      "- Deletions (xóa): 2\n",
      "- Insertions (chèn): 2\n",
      "\n",
      "Độ dài văn bản chuẩn: 48 từ\n",
      "Độ dài văn bản nhận dạng: 48 từ\n",
      "\n",
      "Các từ lỗi:\n",
      "1. Chuẩn: 'nguyễn' → Nhận dạng: 'nguyện'\n",
      "2. Chuẩn: 'một' → Nhận dạng: '1'\n",
      "===============================================\n",
      "\n",
      "===== BÁO CÁO ĐÁNH GIÁ MÔ HÌNH: origin-whisper-large =====\n",
      "Word Error Rate (WER): 0.0417 (4.17%)\n",
      "Character Error Rate (CER): 0.0195 (1.95%)\n",
      "Word Accuracy: 0.9583 (95.83%)\n",
      "Character Accuracy: 0.9805 (98.05%)\n",
      "\n",
      "Phân tích lỗi:\n",
      "- Substitutions (thay thế): 2\n",
      "- Deletions (xóa): 2\n",
      "- Insertions (chèn): 2\n",
      "\n",
      "Độ dài văn bản chuẩn: 48 từ\n",
      "Độ dài văn bản nhận dạng: 48 từ\n",
      "\n",
      "Các từ lỗi:\n",
      "1. Chuẩn: 'nguyễn' → Nhận dạng: 'nguyện'\n",
      "2. Chuẩn: 'một' → Nhận dạng: '1'\n",
      "===============================================\n",
      "\n",
      "===== BÁO CÁO ĐÁNH GIÁ MÔ HÌNH: faster-whisper-tiny =====\n",
      "Word Error Rate (WER): 0.2083 (20.83%)\n",
      "Character Error Rate (CER): 0.1268 (12.68%)\n",
      "Word Accuracy: 0.7917 (79.17%)\n",
      "Character Accuracy: 0.8732 (87.32%)\n",
      "\n",
      "Phân tích lỗi:\n",
      "- Substitutions (thay thế): 0\n",
      "- Deletions (xóa): 10\n",
      "- Insertions (chèn): 10\n",
      "\n",
      "Độ dài văn bản chuẩn: 48 từ\n",
      "Độ dài văn bản nhận dạng: 48 từ\n",
      "\n",
      "Các từ lỗi:\n",
      "1. Chuẩn: 'con' → Nhận dạng: 'còn'\n",
      "2. Chuẩn: 'xin' → Nhận dạng: 'sinh'\n",
      "3. Chuẩn: 'nguyễn' → Nhận dạng: 'người'\n",
      "4. Chuẩn: 'lớp' → Nhận dạng: 'lúc'\n",
      "5. Chuẩn: 'một' → Nhận dạng: '1'\n",
      "6. Chuẩn: 'môn' → Nhận dạng: '1'\n",
      "7. Chuẩn: 'môn' → Nhận dạng: '1'\n",
      "8. Chuẩn: 'môn' → Nhận dạng: '1'\n",
      "9. Chuẩn: 'chơi' → Nhận dạng: 'cho'\n",
      "10. Chuẩn: 'môn' → Nhận dạng: '1'\n",
      "===============================================\n",
      "\n",
      "===== BÁO CÁO ĐÁNH GIÁ MÔ HÌNH: faster-whisper-base =====\n",
      "Word Error Rate (WER): 0.1250 (12.50%)\n",
      "Character Error Rate (CER): 0.0390 (3.90%)\n",
      "Word Accuracy: 0.8750 (87.50%)\n",
      "Character Accuracy: 0.9610 (96.10%)\n",
      "\n",
      "Phân tích lỗi:\n",
      "- Substitutions (thay thế): 6\n",
      "- Deletions (xóa): 6\n",
      "- Insertions (chèn): 6\n",
      "\n",
      "Độ dài văn bản chuẩn: 48 từ\n",
      "Độ dài văn bản nhận dạng: 48 từ\n",
      "\n",
      "Các từ lỗi:\n",
      "1. Chuẩn: 'nguyễn' → Nhận dạng: 'nguyện'\n",
      "2. Chuẩn: 'một' → Nhận dạng: '1'\n",
      "3. Chuẩn: 'môn' → Nhận dạng: 'muôn'\n",
      "4. Chuẩn: 'môn' → Nhận dạng: 'muôn'\n",
      "5. Chuẩn: 'môn' → Nhận dạng: 'muôn'\n",
      "6. Chuẩn: 'môn' → Nhận dạng: 'muôn'\n",
      "===============================================\n",
      "\n",
      "===== BÁO CÁO ĐÁNH GIÁ MÔ HÌNH: faster-whisper-small =====\n",
      "Word Error Rate (WER): 0.0208 (2.08%)\n",
      "Character Error Rate (CER): 0.0146 (1.46%)\n",
      "Word Accuracy: 0.9792 (97.92%)\n",
      "Character Accuracy: 0.9854 (98.54%)\n",
      "\n",
      "Phân tích lỗi:\n",
      "- Substitutions (thay thế): 0\n",
      "- Deletions (xóa): 1\n",
      "- Insertions (chèn): 1\n",
      "\n",
      "Độ dài văn bản chuẩn: 48 từ\n",
      "Độ dài văn bản nhận dạng: 48 từ\n",
      "\n",
      "Các từ lỗi:\n",
      "1. Chuẩn: 'một' → Nhận dạng: '1'\n",
      "===============================================\n",
      "\n",
      "===== BÁO CÁO ĐÁNH GIÁ MÔ HÌNH: faster-whisper-medium =====\n",
      "Word Error Rate (WER): 0.0625 (6.25%)\n",
      "Character Error Rate (CER): 0.0390 (3.90%)\n",
      "Word Accuracy: 0.9375 (93.75%)\n",
      "Character Accuracy: 0.9610 (96.10%)\n",
      "\n",
      "Phân tích lỗi:\n",
      "- Substitutions (thay thế): 0\n",
      "- Deletions (xóa): 3\n",
      "- Insertions (chèn): 2\n",
      "\n",
      "Độ dài văn bản chuẩn: 48 từ\n",
      "Độ dài văn bản nhận dạng: 47 từ\n",
      "\n",
      "Các từ lỗi:\n",
      "1. Chuẩn: 'tên' → Nhận dạng: '[MISSING]'\n",
      "2. Chuẩn: 'con' → Nhận dạng: 'cô'\n",
      "3. Chuẩn: 'mà' → Nhận dạng: 'mặt'\n",
      "===============================================\n",
      "\n",
      "===== BÁO CÁO ĐÁNH GIÁ MÔ HÌNH: faster-whisper-large =====\n",
      "Word Error Rate (WER): 0.0208 (2.08%)\n",
      "Character Error Rate (CER): 0.0049 (0.49%)\n",
      "Word Accuracy: 0.9792 (97.92%)\n",
      "Character Accuracy: 0.9951 (99.51%)\n",
      "\n",
      "Phân tích lỗi:\n",
      "- Substitutions (thay thế): 2\n",
      "- Deletions (xóa): 1\n",
      "- Insertions (chèn): 1\n",
      "\n",
      "Độ dài văn bản chuẩn: 48 từ\n",
      "Độ dài văn bản nhận dạng: 48 từ\n",
      "\n",
      "Các từ lỗi:\n",
      "1. Chuẩn: 'nguyễn' → Nhận dạng: 'nguyện'\n",
      "===============================================\n",
      "\n",
      "===== BÁO CÁO ĐÁNH GIÁ MÔ HÌNH: vosk-model-small-vn-0.3 =====\n",
      "Word Error Rate (WER): 0.0625 (6.25%)\n",
      "Character Error Rate (CER): 0.0390 (3.90%)\n",
      "Word Accuracy: 0.9375 (93.75%)\n",
      "Character Accuracy: 0.9610 (96.10%)\n",
      "\n",
      "Phân tích lỗi:\n",
      "- Substitutions (thay thế): 0\n",
      "- Deletions (xóa): 3\n",
      "- Insertions (chèn): 2\n",
      "\n",
      "Độ dài văn bản chuẩn: 48 từ\n",
      "Độ dài văn bản nhận dạng: 47 từ\n",
      "\n",
      "Các từ lỗi:\n",
      "1. Chuẩn: 'tên' → Nhận dạng: '[MISSING]'\n",
      "2. Chuẩn: 'con' → Nhận dạng: 'cô'\n",
      "3. Chuẩn: 'mà' → Nhận dạng: 'mặt'\n",
      "===============================================\n",
      "\n",
      "===== BÁO CÁO ĐÁNH GIÁ MÔ HÌNH: vosk-model-small-vn-0.4 =====\n",
      "Word Error Rate (WER): 0.0625 (6.25%)\n",
      "Character Error Rate (CER): 0.0390 (3.90%)\n",
      "Word Accuracy: 0.9375 (93.75%)\n",
      "Character Accuracy: 0.9610 (96.10%)\n",
      "\n",
      "Phân tích lỗi:\n",
      "- Substitutions (thay thế): 0\n",
      "- Deletions (xóa): 3\n",
      "- Insertions (chèn): 2\n",
      "\n",
      "Độ dài văn bản chuẩn: 48 từ\n",
      "Độ dài văn bản nhận dạng: 47 từ\n",
      "\n",
      "Các từ lỗi:\n",
      "1. Chuẩn: 'tên' → Nhận dạng: '[MISSING]'\n",
      "2. Chuẩn: 'con' → Nhận dạng: 'cô'\n",
      "3. Chuẩn: 'mà' → Nhận dạng: 'mặt'\n",
      "===============================================\n",
      "\n",
      "===== BÁO CÁO ĐÁNH GIÁ MÔ HÌNH: vosk-model-vn-0.4 =====\n",
      "Word Error Rate (WER): 0.0625 (6.25%)\n",
      "Character Error Rate (CER): 0.0390 (3.90%)\n",
      "Word Accuracy: 0.9375 (93.75%)\n",
      "Character Accuracy: 0.9610 (96.10%)\n",
      "\n",
      "Phân tích lỗi:\n",
      "- Substitutions (thay thế): 0\n",
      "- Deletions (xóa): 3\n",
      "- Insertions (chèn): 2\n",
      "\n",
      "Độ dài văn bản chuẩn: 48 từ\n",
      "Độ dài văn bản nhận dạng: 47 từ\n",
      "\n",
      "Các từ lỗi:\n",
      "1. Chuẩn: 'tên' → Nhận dạng: '[MISSING]'\n",
      "2. Chuẩn: 'con' → Nhận dạng: 'cô'\n",
      "3. Chuẩn: 'mà' → Nhận dạng: 'mặt'\n",
      "===============================================\n",
      "\n",
      "===== BÁO CÁO ĐÁNH GIÁ MÔ HÌNH: wav2vec 2.0 =====\n",
      "Word Error Rate (WER): 0.3750 (37.50%)\n",
      "Character Error Rate (CER): 0.1951 (19.51%)\n",
      "Word Accuracy: 0.6250 (62.50%)\n",
      "Character Accuracy: 0.8049 (80.49%)\n",
      "\n",
      "Phân tích lỗi:\n",
      "- Substitutions (thay thế): 3\n",
      "- Deletions (xóa): 18\n",
      "- Insertions (chèn): 18\n",
      "\n",
      "Độ dài văn bản chuẩn: 48 từ\n",
      "Độ dài văn bản nhận dạng: 48 từ\n",
      "\n",
      "Các từ lỗi:\n",
      "1. Chuẩn: 'tên' → Nhận dạng: 'trên'\n",
      "2. Chuẩn: 'là' → Nhận dạng: 'lần'\n",
      "3. Chuẩn: 'nguyễn' → Nhận dạng: 'quyền'\n",
      "4. Chuẩn: 'bảo' → Nhận dạng: 'văn'\n",
      "5. Chuẩn: 'ngọc' → Nhận dạng: 'ngà'\n",
      "6. Chuẩn: 'nay' → Nhận dạng: 'này'\n",
      "7. Chuẩn: 'lớp' → Nhận dạng: 'lúc'\n",
      "8. Chuẩn: 'một' → Nhận dạng: '1'\n",
      "9. Chuẩn: 'môn' → Nhận dạng: '1'\n",
      "10. Chuẩn: 'môn' → Nhận dạng: '1'\n",
      "11. Chuẩn: 'môn' → Nhận dạng: '1'\n",
      "12. Chuẩn: 'thể' → Nhận dạng: 'thế'\n",
      "13. Chuẩn: 'thao' → Nhận dạng: 'thào'\n",
      "14. Chuẩn: 'môn' → Nhận dạng: '1'\n",
      "15. Chuẩn: 'cầu' → Nhận dạng: 'câu'\n",
      "16. Chuẩn: 'cảm' → Nhận dạng: 'cá'\n",
      "17. Chuẩn: 'ơn' → Nhận dạng: 'mới'\n",
      "18. Chuẩn: 'mọi' → Nhận dạng: '1'\n",
      "===============================================\n",
      "Đã lưu kết quả đánh giá chi tiết vào: asr_evaluation_results.json\n"
     ]
    }
   ],
   "source": [
    "!python vadiation.py --reference reference.txt --models model1.txt model2.txt model3.txt model4.txt model5.txt model6.txt model7.txt model8.txt model9.txt model10.txt model11.txt model12.txt model13.txt model14.txt  --names \"origin-whisper-tiny\" \"origin-whisper-base\" \"origin-whisper-small\" \"origin-whisper-medium\" \"origin-whisper-large\" \"faster-whisper-tiny\" \"faster-whisper-base\" \"faster-whisper-small\" \"faster-whisper-medium\" \"faster-whisper-large\" \"vosk-model-small-vn-0.3\" \"vosk-model-small-vn-0.4\" \"vosk-model-vn-0.4\" \"wav2vec 2.0\"\n"
   ]
  }
 ],
 "metadata": {
  "accelerator": "GPU",
  "colab": {
   "authorship_tag": "ABX9TyPCEsnfPdHWDYjZozVNXtKb",
   "gpuType": "T4",
   "mount_file_id": "1ZnIUEWusr3_N1FChZxrZwSKBXwuzcTiH",
   "provenance": []
  },
  "kernelspec": {
   "display_name": "Python 3",
   "name": "python3"
  },
  "language_info": {
   "name": "python"
  }
 },
 "nbformat": 4,
 "nbformat_minor": 0
}
